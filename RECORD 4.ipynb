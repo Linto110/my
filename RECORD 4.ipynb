{
 "cells": [
  {
   "cell_type": "code",
   "execution_count": 3,
   "id": "4ab01465-cd3d-4d55-9948-29ecae568a6e",
   "metadata": {},
   "outputs": [
    {
     "name": "stdin",
     "output_type": "stream",
     "text": [
      "Enter a string : hello i am here hello\n"
     ]
    },
    {
     "name": "stdout",
     "output_type": "stream",
     "text": [
      "Occurenec of words : [{'hello': 2, 'i': 1, 'am': 1, 'here': 1}]\n"
     ]
    }
   ],
   "source": [
    "#occurence of each word\n",
    "string=input(\"Enter a string :\").split()\n",
    "print(\"Occurenec of words :\",[{word:string.count(word) for word in string}])"
   ]
  },
  {
   "cell_type": "code",
   "execution_count": null,
   "id": "f1ea326a-1d51-45e2-b930-23f6c166cef1",
   "metadata": {},
   "outputs": [],
   "source": [
    "numbers=input(\"Enter a list of numbers (Seperated by space)\").split()\n",
    "print(\"After storing :\",[int(x) if int(x)<100 else \"Over\" for x in numbers])"
   ]
  },
  {
   "cell_type": "code",
   "execution_count": null,
   "id": "2c0819b6-df31-4c52-bdbc-4bf5e01ca4f3",
   "metadata": {},
   "outputs": [],
   "source": [
    "names=input(\"Enter the names (Seperated by spaces) :\").split()\n",
    "occurence=sum([name.count('a') for name in names])\n",
    "print(\"Occurence of 'a' in names :\",occurence)"
   ]
  },
  {
   "cell_type": "code",
   "execution_count": null,
   "id": "afa4b45e-0fa2-461b-b112-2a77344927fa",
   "metadata": {},
   "outputs": [],
   "source": [
    "# List Comprehentions\n",
    "numbers=input(\"Enter a list of numbers :\").split()\n",
    "positive=[int(x) for x in numbers if int(x)>0]\n",
    "print(\"Positive numbers :\",positive)\n",
    "square=[int(x)*int(x) for x in num ]\n",
    "print(\"Square of numbers:\",square)\n",
    "word=input(\"Enter a word :\")\n",
    "vowels=[char for char in word if char.lower() in 'aeiou']\n",
    "print(\"Vowels present in the word :\",vowels)\n",
    "ordial=[ord(char) for char in word]\n",
    "print(\"Ordial value of characters :\",ordial)"
   ]
  },
  {
   "cell_type": "code",
   "execution_count": null,
   "id": "1b9b69fd-a05f-41f4-ab23-200bcecccf89",
   "metadata": {},
   "outputs": [],
   "source": [
    "number=input(\"Enter a number :\")"
   ]
  },
  {
   "cell_type": "markdown",
   "id": "c447d04b-939d-4a4a-bb33-938dc272efca",
   "metadata": {},
   "source": [
    "# "
   ]
  },
  {
   "cell_type": "code",
   "execution_count": null,
   "id": "6dfc13fb-ee3c-43ef-8e38-52b811788c71",
   "metadata": {},
   "outputs": [],
   "source": []
  }
 ],
 "metadata": {
  "kernelspec": {
   "display_name": "Python 3 (ipykernel)",
   "language": "python",
   "name": "python3"
  },
  "language_info": {
   "codemirror_mode": {
    "name": "ipython",
    "version": 3
   },
   "file_extension": ".py",
   "mimetype": "text/x-python",
   "name": "python",
   "nbconvert_exporter": "python",
   "pygments_lexer": "ipython3",
   "version": "3.11.9"
  }
 },
 "nbformat": 4,
 "nbformat_minor": 5
}
