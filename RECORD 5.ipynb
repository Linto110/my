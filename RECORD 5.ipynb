{
 "cells": [
  {
   "cell_type": "code",
   "execution_count": 3,
   "id": "00518892-a64c-45fa-a6fc-eb60ebefcb9a",
   "metadata": {},
   "outputs": [
    {
     "name": "stdin",
     "output_type": "stream",
     "text": [
      "Enter a number : 5\n",
      "Enter a number : 10\n"
     ]
    },
    {
     "name": "stdout",
     "output_type": "stream",
     "text": [
      "GCD = 5\n"
     ]
    }
   ],
   "source": [
    "# GCD OF 2 NUM\n",
    "a=int(input(\"Enter a number :\"))\n",
    "b=int(input(\"Enter a number :\"))\n",
    "while b:\n",
    "    a,b=b,a%b\n",
    "print(\"GCD =\",a)"
   ]
  },
  {
   "cell_type": "code",
   "execution_count": 10,
   "id": "47429439-70ee-4177-96c1-15fe3ab15052",
   "metadata": {},
   "outputs": [
    {
     "name": "stdin",
     "output_type": "stream",
     "text": [
      "Enter a list of numbers : 1 2 3 4 5 6 7 8\n"
     ]
    },
    {
     "name": "stdout",
     "output_type": "stream",
     "text": [
      "After removing even : [1, 3, 5, 7]\n"
     ]
    }
   ],
   "source": [
    "# REMOVING EVEN NUMBERS\n",
    "numbers=input(\"Enter a list of numbers :\").split()\n",
    "num=[]\n",
    "for x in numbers:\n",
    "    if(int(x)%2!=0):\n",
    "        num.append(int(x))\n",
    "print(\"After removing even :\",num)"
   ]
  },
  {
   "cell_type": "code",
   "execution_count": 18,
   "id": "770bcd7c-4457-48de-9b4e-6a72a908cb70",
   "metadata": {},
   "outputs": [
    {
     "name": "stdin",
     "output_type": "stream",
     "text": [
      "Enter a list of numbers : 1 2 3\n"
     ]
    },
    {
     "name": "stdout",
     "output_type": "stream",
     "text": [
      "Sum of elements in the list : 6\n"
     ]
    }
   ],
   "source": [
    "# SUM OF ITEMS IN LIST\n",
    "numbers=input(\"Enter a list of numbers :\").split()\n",
    "total=0\n",
    "for x in numbers:\n",
    "    total+=int(x)\n",
    "print(\"Sum of elements in the list :\",sum)"
   ]
  },
  {
   "cell_type": "code",
   "execution_count": 31,
   "id": "a3725a8d-a275-49de-99f2-9daadf0cb18a",
   "metadata": {},
   "outputs": [
    {
     "name": "stdin",
     "output_type": "stream",
     "text": [
      "Enter a string:  hello\n"
     ]
    },
    {
     "name": "stdout",
     "output_type": "stream",
     "text": [
      "l 2\n",
      "h 1\n",
      "e 1\n",
      "o 1\n"
     ]
    }
   ],
   "source": [
    "# FREQUENCY COUNT\n",
    "word = input(\"Enter a string: \")\n",
    "count = []\n",
    "for ch in set(word):\n",
    "    print(ch,word.count(ch))"
   ]
  },
  {
   "cell_type": "code",
   "execution_count": 36,
   "id": "fe4ec2c1-7636-443c-932f-d4dfd5f30322",
   "metadata": {},
   "outputs": [
    {
     "name": "stdin",
     "output_type": "stream",
     "text": [
      "Enter s string hello\n"
     ]
    },
    {
     "name": "stdout",
     "output_type": "stream",
     "text": [
      "helloiy\n"
     ]
    }
   ],
   "source": [
    "word=input(\"Enter s string\")\n",
    "if word.endswith('ing'):\n",
    "    print(word + 'ing')\n",
    "else:\n",
    "    print(word+'iy')\n"
   ]
  },
  {
   "cell_type": "code",
   "execution_count": null,
   "id": "7a728a99-fc45-44d5-bcc2-0f77066cae0c",
   "metadata": {},
   "outputs": [],
   "source": []
  }
 ],
 "metadata": {
  "kernelspec": {
   "display_name": "Python 3 (ipykernel)",
   "language": "python",
   "name": "python3"
  },
  "language_info": {
   "codemirror_mode": {
    "name": "ipython",
    "version": 3
   },
   "file_extension": ".py",
   "mimetype": "text/x-python",
   "name": "python",
   "nbconvert_exporter": "python",
   "pygments_lexer": "ipython3",
   "version": "3.11.9"
  }
 },
 "nbformat": 4,
 "nbformat_minor": 5
}
