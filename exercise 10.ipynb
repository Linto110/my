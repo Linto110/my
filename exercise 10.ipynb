{
 "cells": [
  {
   "cell_type": "code",
   "execution_count": 5,
   "id": "0c3c0674-1b38-4888-995c-6a2a4d209fcb",
   "metadata": {},
   "outputs": [
    {
     "name": "stdin",
     "output_type": "stream",
     "text": [
      "Enter a string hello123\n"
     ]
    },
    {
     "name": "stdout",
     "output_type": "stream",
     "text": [
      "Letters in string=5 and digits in the string =3\n"
     ]
    }
   ],
   "source": [
    "string=input(\"Enter a string\")\n",
    "digits=0\n",
    "letters=0\n",
    "for i in string:\n",
    " if i.isdigit():\n",
    "     digits+=1\n",
    " else:\n",
    "     letters+=1\n",
    "print(f\"Letters in string={letters} and digits in the string ={digits}\")"
   ]
  },
  {
   "cell_type": "code",
   "execution_count": 21,
   "id": "b0058f07-3cd9-4f3b-a8fc-473ba89d5c7c",
   "metadata": {},
   "outputs": [
    {
     "name": "stdout",
     "output_type": "stream",
     "text": [
      "0\n",
      "1\n",
      "3\n",
      "4\n",
      "6\n",
      "7\n",
      "8\n",
      "9\n"
     ]
    }
   ],
   "source": [
    "for i in range(0,10):\n",
    " if i==2 or i==5:\n",
    "  continue\n",
    " print(i)"
   ]
  },
  {
   "cell_type": "code",
   "execution_count": null,
   "id": "e9d83d10-ff70-493b-bcda-106840c34ee8",
   "metadata": {},
   "outputs": [],
   "source": [
    "numbers=input(\"Enter a numbers of list :\").split()\n",
    "sum=0\n",
    "for i in numbers:\n",
    "    sum+=int(i)\n",
    "print(f\"The sum of elemtd in the list={sum}\")"
   ]
  },
  {
   "cell_type": "code",
   "execution_count": 4,
   "id": "ee88f269-9904-4de4-accd-6892ec4964aa",
   "metadata": {},
   "outputs": [
    {
     "name": "stdout",
     "output_type": "stream",
     "text": [
      "1 \n",
      "2 4 \n",
      "3 6 9 \n",
      "4 8 12 16 \n"
     ]
    }
   ],
   "source": [
    "for i in range(1,5):\n",
    " for j in range(1,i+1):\n",
    "    print(i*j,end=' ')\n",
    " print()"
   ]
  },
  {
   "cell_type": "code",
   "execution_count": null,
   "id": "d5851c8d-c272-4f9a-a28b-f445e062f9c1",
   "metadata": {},
   "outputs": [],
   "source": []
  },
  {
   "cell_type": "code",
   "execution_count": null,
   "id": "74c26594-d463-47ca-8cf7-f8c4f037601b",
   "metadata": {},
   "outputs": [],
   "source": []
  }
 ],
 "metadata": {
  "kernelspec": {
   "display_name": "Python 3 (ipykernel)",
   "language": "python",
   "name": "python3"
  },
  "language_info": {
   "codemirror_mode": {
    "name": "ipython",
    "version": 3
   },
   "file_extension": ".py",
   "mimetype": "text/x-python",
   "name": "python",
   "nbconvert_exporter": "python",
   "pygments_lexer": "ipython3",
   "version": "3.11.9"
  }
 },
 "nbformat": 4,
 "nbformat_minor": 5
}
