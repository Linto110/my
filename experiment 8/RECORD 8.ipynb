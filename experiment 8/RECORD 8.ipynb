{
 "cells": [
  {
   "cell_type": "code",
   "execution_count": 11,
   "id": "c6b2a2fd-b64e-4fdb-8668-f583c8881a9d",
   "metadata": {},
   "outputs": [
    {
     "name": "stdin",
     "output_type": "stream",
     "text": [
      "Enter the length of rectangle 1: 4\n",
      "Enter the breadth rectangle 1: 5\n",
      "Enter the length of rectangle 2: 7\n",
      "Enter the breadth rectangle 2: 8\n"
     ]
    },
    {
     "name": "stdout",
     "output_type": "stream",
     "text": [
      "Rectangle 1 Area=20,Periemeter=18\n",
      "Rectangle 2 Area=56,Periemeter=30\n",
      "Area of object 2 is greter than object 1\n"
     ]
    }
   ],
   "source": [
    "class Rectangle():\n",
    "    def __init__(self,length,breadth):\n",
    "        self.length=length\n",
    "        self.breadth=breadth\n",
    "    def r_area(self):\n",
    "        return self.length*self.breadth\n",
    "    def r_perimeter(self):\n",
    "        return 2*(self.length+self.breadth) \n",
    "l=int(input(\"Enter the length of rectangle 1:\"))\n",
    "b=int(input(\"Enter the breadth rectangle 1:\"))\n",
    "rect1=Rectangle(l,b);\n",
    "l=int(input(\"Enter the length of rectangle 2:\"))\n",
    "b=int(input(\"Enter the breadth rectangle 2:\"))\n",
    "rect2=Rectangle(l,b)\n",
    "print(f\"Rectangle 1 Area={rect1.r_area()},Periemeter={rect1.r_perimeter()}\")\n",
    "print(f\"Rectangle 2 Area={rect2.r_area()},Periemeter={rect2.r_perimeter()}\")\n",
    "if rect1.r_area() <rect2.r_area():\n",
    "    print(\"Area of object 2 is greter than object 1\")\n",
    "else:\n",
    "        print(\"Area of object 1 is equal to object 2\")"
   ]
  },
  {
   "cell_type": "code",
   "execution_count": 18,
   "id": "049009ab-ccc2-4f63-aa85-12e2cf9ee50e",
   "metadata": {},
   "outputs": [
    {
     "ename": "KeyboardInterrupt",
     "evalue": "Interrupted by user",
     "output_type": "error",
     "traceback": [
      "\u001b[0;31m---------------------------------------------------------------------------\u001b[0m",
      "\u001b[0;31mKeyboardInterrupt\u001b[0m                         Traceback (most recent call last)",
      "Cell \u001b[0;32mIn[18], line 18\u001b[0m\n\u001b[1;32m     16\u001b[0m     \u001b[38;5;28;01mdef\u001b[39;00m \u001b[38;5;21mbalance\u001b[39m(\u001b[38;5;28mself\u001b[39m):\n\u001b[1;32m     17\u001b[0m         \u001b[38;5;28;01mreturn\u001b[39;00m \u001b[38;5;28mself\u001b[39m\u001b[38;5;241m.\u001b[39macc_balance\n\u001b[0;32m---> 18\u001b[0m name\u001b[38;5;241m=\u001b[39m\u001b[38;5;28minput\u001b[39m(\u001b[38;5;124m\"\u001b[39m\u001b[38;5;124mEnter your name :\u001b[39m\u001b[38;5;124m\"\u001b[39m)\n\u001b[1;32m     19\u001b[0m id_num\u001b[38;5;241m=\u001b[39m\u001b[38;5;28mint\u001b[39m(\u001b[38;5;28minput\u001b[39m(\u001b[38;5;124m\"\u001b[39m\u001b[38;5;124mEnter your account number :\u001b[39m\u001b[38;5;124m\"\u001b[39m))\n\u001b[1;32m     20\u001b[0m acc_type\u001b[38;5;241m=\u001b[39m\u001b[38;5;28minput\u001b[39m(\u001b[38;5;124m\"\u001b[39m\u001b[38;5;124mEnter your account type :\u001b[39m\u001b[38;5;124m\"\u001b[39m)\n",
      "File \u001b[0;32m~/anaconda3/lib/python3.11/site-packages/ipykernel/kernelbase.py:1262\u001b[0m, in \u001b[0;36mKernel.raw_input\u001b[0;34m(self, prompt)\u001b[0m\n\u001b[1;32m   1260\u001b[0m     msg \u001b[38;5;241m=\u001b[39m \u001b[38;5;124m\"\u001b[39m\u001b[38;5;124mraw_input was called, but this frontend does not support input requests.\u001b[39m\u001b[38;5;124m\"\u001b[39m\n\u001b[1;32m   1261\u001b[0m     \u001b[38;5;28;01mraise\u001b[39;00m StdinNotImplementedError(msg)\n\u001b[0;32m-> 1262\u001b[0m \u001b[38;5;28;01mreturn\u001b[39;00m \u001b[38;5;28mself\u001b[39m\u001b[38;5;241m.\u001b[39m_input_request(\n\u001b[1;32m   1263\u001b[0m     \u001b[38;5;28mstr\u001b[39m(prompt),\n\u001b[1;32m   1264\u001b[0m     \u001b[38;5;28mself\u001b[39m\u001b[38;5;241m.\u001b[39m_parent_ident[\u001b[38;5;124m\"\u001b[39m\u001b[38;5;124mshell\u001b[39m\u001b[38;5;124m\"\u001b[39m],\n\u001b[1;32m   1265\u001b[0m     \u001b[38;5;28mself\u001b[39m\u001b[38;5;241m.\u001b[39mget_parent(\u001b[38;5;124m\"\u001b[39m\u001b[38;5;124mshell\u001b[39m\u001b[38;5;124m\"\u001b[39m),\n\u001b[1;32m   1266\u001b[0m     password\u001b[38;5;241m=\u001b[39m\u001b[38;5;28;01mFalse\u001b[39;00m,\n\u001b[1;32m   1267\u001b[0m )\n",
      "File \u001b[0;32m~/anaconda3/lib/python3.11/site-packages/ipykernel/kernelbase.py:1305\u001b[0m, in \u001b[0;36mKernel._input_request\u001b[0;34m(self, prompt, ident, parent, password)\u001b[0m\n\u001b[1;32m   1302\u001b[0m \u001b[38;5;28;01mexcept\u001b[39;00m \u001b[38;5;167;01mKeyboardInterrupt\u001b[39;00m:\n\u001b[1;32m   1303\u001b[0m     \u001b[38;5;66;03m# re-raise KeyboardInterrupt, to truncate traceback\u001b[39;00m\n\u001b[1;32m   1304\u001b[0m     msg \u001b[38;5;241m=\u001b[39m \u001b[38;5;124m\"\u001b[39m\u001b[38;5;124mInterrupted by user\u001b[39m\u001b[38;5;124m\"\u001b[39m\n\u001b[0;32m-> 1305\u001b[0m     \u001b[38;5;28;01mraise\u001b[39;00m \u001b[38;5;167;01mKeyboardInterrupt\u001b[39;00m(msg) \u001b[38;5;28;01mfrom\u001b[39;00m \u001b[38;5;28;01mNone\u001b[39;00m\n\u001b[1;32m   1306\u001b[0m \u001b[38;5;28;01mexcept\u001b[39;00m \u001b[38;5;167;01mException\u001b[39;00m:\n\u001b[1;32m   1307\u001b[0m     \u001b[38;5;28mself\u001b[39m\u001b[38;5;241m.\u001b[39mlog\u001b[38;5;241m.\u001b[39mwarning(\u001b[38;5;124m\"\u001b[39m\u001b[38;5;124mInvalid Message:\u001b[39m\u001b[38;5;124m\"\u001b[39m, exc_info\u001b[38;5;241m=\u001b[39m\u001b[38;5;28;01mTrue\u001b[39;00m)\n",
      "\u001b[0;31mKeyboardInterrupt\u001b[0m: Interrupted by user"
     ]
    }
   ],
   "source": [
    "class Myaccount():\n",
    "    def __init__(self,name,id_num,acc_type,acc_balance):\n",
    "        self.name=name\n",
    "        self.id_num=id_num\n",
    "        self.acc_type=acc_type\n",
    "        self.acc_balance=acc_balance\n",
    "    def withdraw(self,amount):\n",
    "        if self.acc_balance<amount:\n",
    "            return f\"You dont have sufficient balance,balance is {self.acc_balance}\"\n",
    "        else:\n",
    "            self.acc_balance-=amount\n",
    "            return f\"After withdrawal new balance is {self.acc_balance}\"\n",
    "    def deposit(self,amount):\n",
    "        self.acc_balance+=amount\n",
    "        return f\"{self.acc_balance}\"\n",
    "    def balance(self):\n",
    "        return self.acc_balance\n",
    "name=input(\"Enter your name :\")\n",
    "id_num=int(input(\"Enter your account number :\"))\n",
    "acc_type=input(\"Enter your account type :\")\n",
    "acc_balance=int(input(\"Enter your initial balance :\"))\n",
    "account=Myaccount(name,id_num,acc_type,acc_balance)\n",
    "while(1):\n",
    "    print(\"BANK OPERATIONS \\n ------------ \\n 1.Withdraw\\n2.Deposit\\n3.Display\\n4.Exit\")\n",
    "    ch=int(input(\"Enter your option :\"))\n",
    "    if ch==1:\n",
    "        amount=int(input(\"Enter the amount to withdraw :\"))\n",
    "        print(f\"{account.withdraw(amount)}\")\n",
    "    elif ch==2:\n",
    "        amount=int(input(\"Enter the amount to deposit :\"))\n",
    "        print(f\"The amount {amount} is deposited,New balance={account.deposit(amount)}\")\n",
    "    elif ch==3:\n",
    "        print(f\"Balance={account.balance()}\")\n",
    "    elif ch==4:\n",
    "        print(\"Thankyou for visiting,come again\")\n",
    "        break;\n",
    "    else:\n",
    "        print(\"Enter valid option\")"
   ]
  },
  {
   "cell_type": "code",
   "execution_count": 21,
   "id": "637535d8-ec2e-4109-ad2d-da8124f02001",
   "metadata": {},
   "outputs": [
    {
     "ename": "KeyboardInterrupt",
     "evalue": "Interrupted by user",
     "output_type": "error",
     "traceback": [
      "\u001b[0;31m---------------------------------------------------------------------------\u001b[0m",
      "\u001b[0;31mKeyboardInterrupt\u001b[0m                         Traceback (most recent call last)",
      "Cell \u001b[0;32mIn[21], line 13\u001b[0m\n\u001b[1;32m     11\u001b[0m     \u001b[38;5;28;01mdef\u001b[39;00m \u001b[38;5;21m__eq__\u001b[39m(\u001b[38;5;28mself\u001b[39m,other):\n\u001b[1;32m     12\u001b[0m         \u001b[38;5;28;01mreturn\u001b[39;00m \u001b[38;5;28mself\u001b[39m\u001b[38;5;241m.\u001b[39mr_area()\u001b[38;5;241m==\u001b[39mother\u001b[38;5;241m.\u001b[39mr_area()\n\u001b[0;32m---> 13\u001b[0m l\u001b[38;5;241m=\u001b[39m\u001b[38;5;28mint\u001b[39m(\u001b[38;5;28minput\u001b[39m(\u001b[38;5;124m\"\u001b[39m\u001b[38;5;124mEnter the length of rectangle 1:\u001b[39m\u001b[38;5;124m\"\u001b[39m))\n\u001b[1;32m     14\u001b[0m b\u001b[38;5;241m=\u001b[39m\u001b[38;5;28mint\u001b[39m(\u001b[38;5;28minput\u001b[39m(\u001b[38;5;124m\"\u001b[39m\u001b[38;5;124mEnter the breadth rectangle 1:\u001b[39m\u001b[38;5;124m\"\u001b[39m))\n\u001b[1;32m     15\u001b[0m rect1\u001b[38;5;241m=\u001b[39mRectangle(l,b);\n",
      "File \u001b[0;32m~/anaconda3/lib/python3.11/site-packages/ipykernel/kernelbase.py:1262\u001b[0m, in \u001b[0;36mKernel.raw_input\u001b[0;34m(self, prompt)\u001b[0m\n\u001b[1;32m   1260\u001b[0m     msg \u001b[38;5;241m=\u001b[39m \u001b[38;5;124m\"\u001b[39m\u001b[38;5;124mraw_input was called, but this frontend does not support input requests.\u001b[39m\u001b[38;5;124m\"\u001b[39m\n\u001b[1;32m   1261\u001b[0m     \u001b[38;5;28;01mraise\u001b[39;00m StdinNotImplementedError(msg)\n\u001b[0;32m-> 1262\u001b[0m \u001b[38;5;28;01mreturn\u001b[39;00m \u001b[38;5;28mself\u001b[39m\u001b[38;5;241m.\u001b[39m_input_request(\n\u001b[1;32m   1263\u001b[0m     \u001b[38;5;28mstr\u001b[39m(prompt),\n\u001b[1;32m   1264\u001b[0m     \u001b[38;5;28mself\u001b[39m\u001b[38;5;241m.\u001b[39m_parent_ident[\u001b[38;5;124m\"\u001b[39m\u001b[38;5;124mshell\u001b[39m\u001b[38;5;124m\"\u001b[39m],\n\u001b[1;32m   1265\u001b[0m     \u001b[38;5;28mself\u001b[39m\u001b[38;5;241m.\u001b[39mget_parent(\u001b[38;5;124m\"\u001b[39m\u001b[38;5;124mshell\u001b[39m\u001b[38;5;124m\"\u001b[39m),\n\u001b[1;32m   1266\u001b[0m     password\u001b[38;5;241m=\u001b[39m\u001b[38;5;28;01mFalse\u001b[39;00m,\n\u001b[1;32m   1267\u001b[0m )\n",
      "File \u001b[0;32m~/anaconda3/lib/python3.11/site-packages/ipykernel/kernelbase.py:1305\u001b[0m, in \u001b[0;36mKernel._input_request\u001b[0;34m(self, prompt, ident, parent, password)\u001b[0m\n\u001b[1;32m   1302\u001b[0m \u001b[38;5;28;01mexcept\u001b[39;00m \u001b[38;5;167;01mKeyboardInterrupt\u001b[39;00m:\n\u001b[1;32m   1303\u001b[0m     \u001b[38;5;66;03m# re-raise KeyboardInterrupt, to truncate traceback\u001b[39;00m\n\u001b[1;32m   1304\u001b[0m     msg \u001b[38;5;241m=\u001b[39m \u001b[38;5;124m\"\u001b[39m\u001b[38;5;124mInterrupted by user\u001b[39m\u001b[38;5;124m\"\u001b[39m\n\u001b[0;32m-> 1305\u001b[0m     \u001b[38;5;28;01mraise\u001b[39;00m \u001b[38;5;167;01mKeyboardInterrupt\u001b[39;00m(msg) \u001b[38;5;28;01mfrom\u001b[39;00m \u001b[38;5;28;01mNone\u001b[39;00m\n\u001b[1;32m   1306\u001b[0m \u001b[38;5;28;01mexcept\u001b[39;00m \u001b[38;5;167;01mException\u001b[39;00m:\n\u001b[1;32m   1307\u001b[0m     \u001b[38;5;28mself\u001b[39m\u001b[38;5;241m.\u001b[39mlog\u001b[38;5;241m.\u001b[39mwarning(\u001b[38;5;124m\"\u001b[39m\u001b[38;5;124mInvalid Message:\u001b[39m\u001b[38;5;124m\"\u001b[39m, exc_info\u001b[38;5;241m=\u001b[39m\u001b[38;5;28;01mTrue\u001b[39;00m)\n",
      "\u001b[0;31mKeyboardInterrupt\u001b[0m: Interrupted by user"
     ]
    }
   ],
   "source": [
    "\n",
    "class Rectangle():\n",
    "    def __init__(self,length,breadth):\n",
    "        self._length=length\n",
    "        self._breadth=breadth\n",
    "    def r_area(self)78:\n",
    "        return self._length*self._breadth\n",
    "    def r_perimeter(self):\n",
    "        return 2*(self._length+self._breadth) \n",
    "    def __lt__(self,other):\n",
    "        return self.r_area()<other.r_area()\n",
    "    def __eq__(self,other):\n",
    "        return self.r_area()==other.r_area()\n",
    "l=int(input(\"Enter the length of rectangle 1:\"))\n",
    "b=int(input(\"Enter the breadth rectangle 1:\"))\n",
    "rect1=Rectangle(l,b);\n",
    "l=int(input(\"Enter the length of rectangle 2:\")) \n",
    "b=int(input(\"Enter the breadth rectangle 2:\"))\n",
    "rect2=Rectangle(l,b)\n",
    "print(f\"Rectangle 1 Area={rect1.r_area()},Periemeter={rect1.r_perimeter()}\")\n",
    "print(f\"Rectangle 2 Area={rect2.r_area()},Periemeter={rect2.r_perimeter()}\")\n",
    "if rect1<rect2:\n",
    "    print(\"Area of object 2 is greter than object 1\")\n",
    "elif rect1==rect2:\n",
    "        print(\"Area of object 1 is equal to object 2\")\n",
    "else:\n",
    "    print(\"Area of object 1 is greter than object 2\")"
   ]
  },
  {
   "cell_type": "code",
   "execution_count": 23,
   "id": "a9b83e99-fb9d-4715-99a8-620dd50670ff",
   "metadata": {},
   "outputs": [
    {
     "name": "stdout",
     "output_type": "stream",
     "text": [
      "First time: 1 hour(s), 45 minute(s), 45 second(s)\n",
      "Second time: 3 hour(s), 56 minute(s), 41 second(s)\n",
      "Sum of time: 5 hour(s), 42 minute(s), 26 second(s)\n"
     ]
    }
   ],
   "source": [
    "# SUM OF TWO TIME\n",
    "class Time:\n",
    "    def __init__(self78, hour, min, sec):\n",
    "        self._hour = hour\n",
    "        self._min = min\n",
    "        self._sec = sec\n",
    "    def __add__(self, other):\n",
    "        sec = self._sec + other._sec\n",
    "        min = self._min + other._min\n",
    "        hour = self._hour + other._hour\n",
    "        if sec >= 60:\n",
    "            min += sec // 60\n",
    "            sec = sec % 60\n",
    "        if min >= 60:\n",
    "            hour += min // 60\n",
    "            min = min % 60\n",
    "        return Time(hour, min, sec)\n",
    "    def __str__(self):\n",
    "        return f\"{self._hour} hour(s), {self._min} minute(s), {self._sec} second(s)\"\n",
    "t1 = Time(1, 45, 45)\n",
    "t2 = Time(3, 56, 41)\n",
    "t3 = t1 + t2\n",
    "print(f\"First time: {t1}\")\n",
    "print(f\"Second time: {t2}\")\n",
    "print(f\"Sum of time: {t3}\")"
   ]
  },
  {
   "cell_type": "code",
   "execution_count": null,
   "id": "bd523dcc-d73a-4f22-9d0f-dd72f9fd12eb",
   "metadata": {},
   "outputs": [],
   "source": [
    "class Publisher(name):\n",
    "    def __init(sel,name):\n",
    "        self.name=name\n",
    "class Book(Publisher):\n",
    "    def __init__(self,title,author):\n",
    "        self.title=title\n",
    "        self.author=author\n",
    "class Python(Book):\n",
    "    def __init__(self,price,no_of_pages):\n",
    "        self.price=price\n",
    "        self.no_of_pages=no_of_pages\n",
    "pub=Publisher(input(\"Enter your name\"))\n",
    "book=Book()\n",
    "python=Python()"
   ]
  }
 ],
 "metadata": {
  "kernelspec": {
   "display_name": "Python 3 (ipykernel)",
   "language": "python",
   "name": "python3"
  },
  "language_info": {
   "codemirror_mode": {
    "name": "ipython",
    "version": 3
   },
   "file_extension": ".py",
   "mimetype": "text/x-python",
   "name": "python",
   "nbconvert_exporter": "python",
   "pygments_lexer": "ipython3",
   "version": "3.11.9"
  }
 },
 "nbformat": 4,
 "nbformat_minor": 5
}
