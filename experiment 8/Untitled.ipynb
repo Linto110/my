{
 "cells": [
  {
   "cell_type": "code",
   "execution_count": 12,
   "id": "c6b2a2fd-b64e-4fdb-8668-f583c8881a9d",
   "metadata": {},
   "outputs": [
    {
     "name": "stdin",
     "output_type": "stream",
     "text": [
      "Enter the length of rectangle 1: 4\n",
      "Enter the breadth rectangle 1: 5\n",
      "Enter the length of rectangle 2: 6\n",
      "Enter the breadth rectangle 2: 7\n"
     ]
    },
    {
     "name": "stdout",
     "output_type": "stream",
     "text": [
      "Rectangle 1 Area=20,Periemeter=18\n",
      "Rectangle 2 Area=42,Periemeter=26\n",
      "Area of object 2 is greter than object 1\n"
     ]
    }
   ],
   "source": [
    "class Rectangle():\n",
    "    def __init__(self,length,breadth):\n",
    "        self.length=length\n",
    "        self.breadth=breadth\n",
    "    def r_area(self):\n",
    "        return self.length*self.breadth\n",
    "    def r_perimeter(self):\n",
    "        return 2*(self.length+self.breadth) \n",
    "    def __lt__(self,other):\n",
    "        return self.r_area()<other.r_area()\n",
    "    def __eq__(self,other):\n",
    "        return self.r_area()==other.r_area()\n",
    "l=int(input(\"Enter the length of rectangle 1:\"))\n",
    "b=int(input(\"Enter the breadth rectangle 1:\"))\n",
    "rect1=Rectangle(l,b);\n",
    "l=int(input(\"Enter the length of rectangle 2:\"))\n",
    "b=int(input(\"Enter the breadth rectangle 2:\"))\n",
    "rect2=Rectangle(l,b)\n",
    "print(f\"Rectangle 1 Area={rect1.r_area()},Periemeter={rect1.r_perimeter()}\")\n",
    "print(f\"Rectangle 2 Area={rect2.r_area()},Periemeter={rect2.r_perimeter()}\")\n",
    "if rect1<rect2:\n",
    "    print(\"Area of object 2 is greter than object 1\")\n",
    "elif rect1==rect2:\n",
    "        print(\"Area of object 1 is equal to object 2\")\n",
    "else:\n",
    "    print(\"Area of object 1 is greter than object 2\")"
   ]
  },
  {
   "cell_type": "code",
   "execution_count": null,
   "id": "049009ab-ccc2-4f63-aa85-12e2cf9ee50e",
   "metadata": {},
   "outputs": [
    {
     "name": "stdin",
     "output_type": "stream",
     "text": [
      "Enter your name : linto\n",
      "Enter your account number : 1234\n",
      "Enter your account type : savings\n",
      "Enter your initial balance : 0\n"
     ]
    },
    {
     "name": "stdout",
     "output_type": "stream",
     "text": [
      "BANK OPERATIONS \n",
      " ------------ \n",
      " 1.Withdraw\n",
      "2.Deposit\n",
      "3.Display\n",
      "4.Exit\n"
     ]
    },
    {
     "name": "stdin",
     "output_type": "stream",
     "text": [
      "Enter your option : 1\n",
      "Enter the amount to withdraw : 12\n"
     ]
    },
    {
     "name": "stdout",
     "output_type": "stream",
     "text": [
      "You dont have sufficient balance new balance is 0\n",
      "BANK OPERATIONS \n",
      " ------------ \n",
      " 1.Withdraw\n",
      "2.Deposit\n",
      "3.Display\n",
      "4.Exit\n"
     ]
    },
    {
     "name": "stdin",
     "output_type": "stream",
     "text": [
      "Enter your option : 2\n",
      "Enter the amount to deposit : 150\n"
     ]
    },
    {
     "name": "stdout",
     "output_type": "stream",
     "text": [
      "The amount 150 is deposited,New balance=150\n",
      "BANK OPERATIONS \n",
      " ------------ \n",
      " 1.Withdraw\n",
      "2.Deposit\n",
      "3.Display\n",
      "4.Exit\n"
     ]
    },
    {
     "name": "stdin",
     "output_type": "stream",
     "text": [
      "Enter your option : 3\n"
     ]
    },
    {
     "name": "stdout",
     "output_type": "stream",
     "text": [
      "Balance=<bound method Myaccount.balance of <__main__.Myaccount object at 0x72a7a1d7a550>>\n",
      "BANK OPERATIONS \n",
      " ------------ \n",
      " 1.Withdraw\n",
      "2.Deposit\n",
      "3.Display\n",
      "4.Exit\n"
     ]
    }
   ],
   "source": [
    "class Myaccount():\n",
    "    def __init__(self,name,id_num,acc_type,acc_balance):\n",
    "        self.name=name\n",
    "        self.id_num=id_num\n",
    "        self.acc_type=acc_type\n",
    "        self.acc_balance=acc_balance\n",
    "    def withdraw(self,amount):\n",
    "        if self.acc_balance<amount:\n",
    "            return f\"You dont have sufficient balance new balance is {self.acc_balance}\"\n",
    "        else:\n",
    "            return f\"After withdrawal new balance is {self.acc_balance}\"\n",
    "    def deposit(self,amount):\n",
    "        self.acc_balance+=amount\n",
    "        return f\"{self.acc_balance}\"\n",
    "    def balance(self):\n",
    "        return self.acc_balance\n",
    "name=input(\"Enter your name :\")\n",
    "id_num=int(input(\"Enter your account number :\"))\n",
    "acc_type=input(\"Enter your account type :\")\n",
    "acc_balance=int(input(\"Enter your initial balance :\"))\n",
    "account=Myaccount(name,id_num,acc_type,acc_balance)\n",
    "while(1):\n",
    "    print(\"BANK OPERATIONS \\n ------------ \\n 1.Withdraw\\n2.Deposit\\n3.Display\\n4.Exit\")\n",
    "    ch=int(input(\"Enter your option :\"))\n",
    "    if ch==1:\n",
    "        amount=int(input(\"Enter the amount to withdraw :\"))\n",
    "        print(f\"{account.withdraw(amount)}\")\n",
    "    elif ch==2:\n",
    "        amount=int(input(\"Enter the amount to deposit :\"))\n",
    "        print(f\"The amount {amount} is deposited,New balance={account.deposit(amount)}\")\n",
    "    elif ch==3:\n",
    "        print(f\"Balance={account.balance}\")\n",
    "    elif ch==4:\n",
    "        print(\"Thankyou for visiting,come again\")\n",
    "        break;\n",
    "    else:\n",
    "        print(\"Enter valid option\")"
   ]
  },
  {
   "cell_type": "code",
   "execution_count": null,
   "id": "637535d8-ec2e-4109-ad2d-da8124f02001",
   "metadata": {},
   "outputs": [],
   "source": []
  },
  {
   "cell_type": "code",
   "execution_count": null,
   "id": "a9b83e99-fb9d-4715-99a8-620dd50670ff",
   "metadata": {},
   "outputs": [],
   "source": []
  },
  {
   "cell_type": "code",
   "execution_count": null,
   "id": "bd523dcc-d73a-4f22-9d0f-dd72f9fd12eb",
   "metadata": {},
   "outputs": [],
   "source": []
  }
 ],
 "metadata": {
  "kernelspec": {
   "display_name": "Python 3 (ipykernel)",
   "language": "python",
   "name": "python3"
  },
  "language_info": {
   "codemirror_mode": {
    "name": "ipython",
    "version": 3
   },
   "file_extension": ".py",
   "mimetype": "text/x-python",
   "name": "python",
   "nbconvert_exporter": "python",
   "pygments_lexer": "ipython3",
   "version": "3.11.9"
  }
 },
 "nbformat": 4,
 "nbformat_minor": 5
}
